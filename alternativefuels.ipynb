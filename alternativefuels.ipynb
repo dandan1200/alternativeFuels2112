{
 "cells": [
  {
   "cell_type": "markdown",
   "metadata": {},
   "source": [
    "Problem 1:"
   ]
  },
  {
   "cell_type": "markdown",
   "metadata": {},
   "source": [
    "Question 1. a)"
   ]
  },
  {
   "cell_type": "code",
   "execution_count": 13,
   "metadata": {},
   "outputs": [
    {
     "data": {
      "image/png": "[encoded data removed]",
      "text/plain": [
       "<Figure size 432x288 with 1 Axes>"
      ]
     },
     "metadata": {
      "needs_background": "light"
     },
     "output_type": "display_data"
    },
    {
     "data": {
      "image/png": "[encoded data removed]",
      "text/plain": [
       "<Figure size 432x288 with 1 Axes>"
      ]
     },
     "metadata": {
      "needs_background": "light"
     },
     "output_type": "display_data"
    }
   ],
   "source": [
    "import pandas as pd\n",
    "import matplotlib.pyplot as plt\n",
    "\n",
    "data = pd.read_csv(\"Alternative Fuel Vehicles US.csv\")\n",
    "\n",
    "european = ['Land Rover','Van Hool', 'Karma', 'COBUS Industries', 'Audi', 'BMW', 'Jaguar', 'Mercedes-Benz', 'Mini', 'Porsche', 'Volvo', 'Volkswagen', 'Bentley Motors', 'Ferrari', 'Global']\n",
    "japanese = ['Hino', 'Izuzu', 'FUSO','Mazda','Nissan', 'Subaru', 'Honda', 'Toyota', 'Lexus','Acura', 'Mitsubishi']\n",
    "\n",
    "euroVehicles = data[(data['Manufacturer'].isin(european)) & (data['Fuel'] == 'Hybrid Electric')]\n",
    "japVehicles = data[(data['Manufacturer'].isin(japanese)) & (data['Fuel'] == 'Hybrid Electric')]\n",
    "\n",
    "euroFuelVals = euroVehicles['Conventional Fuel Economy Combined'].dropna().to_numpy()\n",
    "euroNames = euroVehicles['Model'].to_numpy()\n",
    "\n",
    "japFuelVals = japVehicles['Conventional Fuel Economy Combined'].to_numpy()\n",
    "japNames = japVehicles['Model'].to_numpy()\n",
    "\n",
    "plt.hist(euroFuelVals, bins=10);\n",
    "plt.xlabel(\"Fuel Economy\")\n",
    "plt.ylabel(\"No. Cars\")\n",
    "plt.title(\"European Hybrid Electric Fuel Economy\")\n",
    "plt.show()\n",
    "plt.hist(japFuelVals, bins=10);\n",
    "plt.xlabel(\"Fuel Economy\")\n",
    "plt.ylabel(\"No. Cars\")\n",
    "plt.title(\"Japanese Hybrid Electric Fuel Economy\")\n",
    "plt.show()\n",
    "\n",
    "\n",
    "\n"
   ]
  },
  {
   "cell_type": "markdown",
   "metadata": {},
   "source": [
    "From these two histograms we can see from the scale that Japan produces many more cars with a significantly higher fuel economy. The range of fuel economy values goes all the way up to 55 with a large amount of cars between 35-55. Whereas, with the european cars, the top end of the range is around 32 and the majority of vehicles are around the 20-25 range for fuel economy."
   ]
  },
  {
   "cell_type": "markdown",
   "metadata": {},
   "source": [
    "Question 1. b)"
   ]
  },
  {
   "cell_type": "code",
   "execution_count": 146,
   "metadata": {},
   "outputs": [
    {
     "data": {
      "image/png": "[encoded data removed]",
      "text/plain": [
       "<Figure size 432x288 with 1 Axes>"
      ]
     },
     "metadata": {
      "needs_background": "light"
     },
     "output_type": "display_data"
    }
   ],
   "source": [
    "electricOnly = data[data['Fuel'] == \"Electric\"]\n",
    "electricOnly = electricOnly.sort_values('All-Electric Range', ascending=False)\n",
    "tenPercent = round(electricOnly.shape[0]/10)\n",
    "electricOnly.head(tenPercent).to_csv(path_or_buf=\"TopTenElectric.csv\")\n",
    "plt.hist(electricOnly['All-Electric Range'], bins=10);\n",
    "plt.xlabel(\"All Electric Range\")\n",
    "plt.ylabel(\"No. Cars\")\n",
    "plt.title(\"All Electric Cars\")\n",
    "plt.show()\n"
   ]
  },
  {
   "cell_type": "markdown",
   "metadata": {},
   "source": [
    "Question 2"
   ]
  },
  {
   "cell_type": "code",
   "execution_count": 139,
   "metadata": {},
   "outputs": [
    {
     "name": "stdout",
     "output_type": "stream",
     "text": [
      "0.64009009009009\n"
     ]
    }
   ],
   "source": [
    "from sklearn.model_selection import train_test_split\n",
    "from sklearn.linear_model import LogisticRegression\n",
    "from sklearn.preprocessing import OneHotEncoder\n",
    "\n",
    "dataClean = data.dropna(subset='Conventional Fuel Economy Combined')\n",
    "\n",
    "x = dataClean.loc[:,['Category','Manufacturer','Conventional Fuel Economy City','Conventional Fuel Economy Highway','Conventional Fuel Economy Combined','Engine Size']]\n",
    "\n",
    "european = ['Land Rover','Van Hool', 'Karma', 'COBUS Industries', 'Audi', 'BMW', 'Jaguar', 'Mercedes-Benz', 'Mini', 'Porsche', 'Volvo', 'Volkswagen', 'Bentley Motors', 'Ferrari', 'Global']\n",
    "asian = ['Hino', 'Izuzu', 'FUSO','Mazda','Nissan', 'Subaru', 'Honda', 'Toyota', 'Lexus','Acura', 'Mitsubishi', 'Kia', 'Hyundai']\n",
    "\n",
    "x.loc[x['Manufacturer'].isin(european), 'Manufacturer'] = 'European'\n",
    "x.loc[x['Manufacturer'].isin(asian), 'Manufacturer'] = 'Asian'\n",
    "x.loc[(x['Manufacturer']!= 'European') & (x['Manufacturer'] != 'Asian'), 'Manufacturer'] = 'American'\n",
    "\n",
    "y = dataClean.iloc[:,4]\n",
    "\n",
    "#One hot encoding\n",
    "enc = OneHotEncoder()\n",
    "enc.fit(x[[\"Category\"]])\n",
    "x = enc.fit_transform(x[[\"Category\"]])\n",
    "\n",
    "acc = []\n",
    "for i in range(20):\n",
    "    xtrain, xtest, ytrain, ytest = train_test_split(x,y,test_size=0.2)\n",
    "\n",
    "    clf = LogisticRegression()\n",
    "    clf.fit(xtrain, ytrain)\n",
    "    yhat = clf.predict(xtest)\n",
    "    score = clf.predict_proba(xtest)\n",
    "\n",
    "    acc.append(clf.score(x,y))\n",
    "\n",
    "print(sum(acc)/len(acc))\n",
    "\n",
    "\n"
   ]
  },
  {
   "cell_type": "markdown",
   "metadata": {},
   "source": [
    "Part a)\n",
    "There were three important steps in pre-processing the data.\n",
    "Firstly, the data needed to be cleaned. This meant removing all rows with null and empty values from the Conventional Fuel Economy Combined column. This was done using the dropna function.\n",
    "Next, the manufacturers needed to be simplified into Country categories. For this I used the loc function to replace values that appeared in lists of manufacturers with the name of the region they were from.\n",
    "Lastly, the category column needed to be encoded with a number so that the logistic regression algorithm could use that data. For this, sklearn's OneHotEncoder function was used to replace category names with a numerical value to be processed."
   ]
  },
  {
   "cell_type": "markdown",
   "metadata": {},
   "source": [
    "Part b)\n",
    "After experimenting with differnt train/test sizes, the most accurate marginally was around 0.2 for test size. This size resulted in an average accuracy of between 63.5-64.5% which was the highest accuracy scores achieved across different test/train split sizes."
   ]
  },
  {
   "cell_type": "code",
   "execution_count": 140,
   "metadata": {},
   "outputs": [
    {
     "name": "stderr",
     "output_type": "stream",
     "text": [
      "/Library/Frameworks/Python.framework/Versions/3.9/lib/python3.9/site-packages/sklearn/neural_network/_multilayer_perceptron.py:692: ConvergenceWarning: Stochastic Optimizer: Maximum iterations (200) reached and the optimization hasn't converged yet.\n",
      "  warnings.warn(\n",
      "/Library/Frameworks/Python.framework/Versions/3.9/lib/python3.9/site-packages/sklearn/neural_network/_multilayer_perceptron.py:692: ConvergenceWarning: Stochastic Optimizer: Maximum iterations (200) reached and the optimization hasn't converged yet.\n",
      "  warnings.warn(\n",
      "/Library/Frameworks/Python.framework/Versions/3.9/lib/python3.9/site-packages/sklearn/neural_network/_multilayer_perceptron.py:692: ConvergenceWarning: Stochastic Optimizer: Maximum iterations (200) reached and the optimization hasn't converged yet.\n",
      "  warnings.warn(\n",
      "/Library/Frameworks/Python.framework/Versions/3.9/lib/python3.9/site-packages/sklearn/neural_network/_multilayer_perceptron.py:692: ConvergenceWarning: Stochastic Optimizer: Maximum iterations (200) reached and the optimization hasn't converged yet.\n",
      "  warnings.warn(\n",
      "/Library/Frameworks/Python.framework/Versions/3.9/lib/python3.9/site-packages/sklearn/neural_network/_multilayer_perceptron.py:692: ConvergenceWarning: Stochastic Optimizer: Maximum iterations (200) reached and the optimization hasn't converged yet.\n",
      "  warnings.warn(\n",
      "/Library/Frameworks/Python.framework/Versions/3.9/lib/python3.9/site-packages/sklearn/neural_network/_multilayer_perceptron.py:692: ConvergenceWarning: Stochastic Optimizer: Maximum iterations (200) reached and the optimization hasn't converged yet.\n",
      "  warnings.warn(\n",
      "/Library/Frameworks/Python.framework/Versions/3.9/lib/python3.9/site-packages/sklearn/neural_network/_multilayer_perceptron.py:692: ConvergenceWarning: Stochastic Optimizer: Maximum iterations (200) reached and the optimization hasn't converged yet.\n",
      "  warnings.warn(\n",
      "/Library/Frameworks/Python.framework/Versions/3.9/lib/python3.9/site-packages/sklearn/neural_network/_multilayer_perceptron.py:692: ConvergenceWarning: Stochastic Optimizer: Maximum iterations (200) reached and the optimization hasn't converged yet.\n",
      "  warnings.warn(\n",
      "/Library/Frameworks/Python.framework/Versions/3.9/lib/python3.9/site-packages/sklearn/neural_network/_multilayer_perceptron.py:692: ConvergenceWarning: Stochastic Optimizer: Maximum iterations (200) reached and the optimization hasn't converged yet.\n",
      "  warnings.warn(\n",
      "/Library/Frameworks/Python.framework/Versions/3.9/lib/python3.9/site-packages/sklearn/neural_network/_multilayer_perceptron.py:692: ConvergenceWarning: Stochastic Optimizer: Maximum iterations (200) reached and the optimization hasn't converged yet.\n",
      "  warnings.warn(\n",
      "/Library/Frameworks/Python.framework/Versions/3.9/lib/python3.9/site-packages/sklearn/neural_network/_multilayer_perceptron.py:692: ConvergenceWarning: Stochastic Optimizer: Maximum iterations (200) reached and the optimization hasn't converged yet.\n",
      "  warnings.warn(\n",
      "/Library/Frameworks/Python.framework/Versions/3.9/lib/python3.9/site-packages/sklearn/neural_network/_multilayer_perceptron.py:692: ConvergenceWarning: Stochastic Optimizer: Maximum iterations (200) reached and the optimization hasn't converged yet.\n",
      "  warnings.warn(\n",
      "/Library/Frameworks/Python.framework/Versions/3.9/lib/python3.9/site-packages/sklearn/neural_network/_multilayer_perceptron.py:692: ConvergenceWarning: Stochastic Optimizer: Maximum iterations (200) reached and the optimization hasn't converged yet.\n",
      "  warnings.warn(\n",
      "/Library/Frameworks/Python.framework/Versions/3.9/lib/python3.9/site-packages/sklearn/neural_network/_multilayer_perceptron.py:692: ConvergenceWarning: Stochastic Optimizer: Maximum iterations (200) reached and the optimization hasn't converged yet.\n",
      "  warnings.warn(\n",
      "/Library/Frameworks/Python.framework/Versions/3.9/lib/python3.9/site-packages/sklearn/neural_network/_multilayer_perceptron.py:692: ConvergenceWarning: Stochastic Optimizer: Maximum iterations (200) reached and the optimization hasn't converged yet.\n",
      "  warnings.warn(\n",
      "/Library/Frameworks/Python.framework/Versions/3.9/lib/python3.9/site-packages/sklearn/neural_network/_multilayer_perceptron.py:692: ConvergenceWarning: Stochastic Optimizer: Maximum iterations (200) reached and the optimization hasn't converged yet.\n",
      "  warnings.warn(\n",
      "/Library/Frameworks/Python.framework/Versions/3.9/lib/python3.9/site-packages/sklearn/neural_network/_multilayer_perceptron.py:692: ConvergenceWarning: Stochastic Optimizer: Maximum iterations (200) reached and the optimization hasn't converged yet.\n",
      "  warnings.warn(\n",
      "/Library/Frameworks/Python.framework/Versions/3.9/lib/python3.9/site-packages/sklearn/neural_network/_multilayer_perceptron.py:692: ConvergenceWarning: Stochastic Optimizer: Maximum iterations (200) reached and the optimization hasn't converged yet.\n",
      "  warnings.warn(\n",
      "/Library/Frameworks/Python.framework/Versions/3.9/lib/python3.9/site-packages/sklearn/neural_network/_multilayer_perceptron.py:692: ConvergenceWarning: Stochastic Optimizer: Maximum iterations (200) reached and the optimization hasn't converged yet.\n",
      "  warnings.warn(\n"
     ]
    },
    {
     "name": "stdout",
     "output_type": "stream",
     "text": [
      "0.6409909909909909\n"
     ]
    },
    {
     "name": "stderr",
     "output_type": "stream",
     "text": [
      "/Library/Frameworks/Python.framework/Versions/3.9/lib/python3.9/site-packages/sklearn/neural_network/_multilayer_perceptron.py:692: ConvergenceWarning: Stochastic Optimizer: Maximum iterations (200) reached and the optimization hasn't converged yet.\n",
      "  warnings.warn(\n"
     ]
    }
   ],
   "source": [
    "from sklearn.neural_network import MLPClassifier\n",
    "\n",
    "acc = []\n",
    "for i in range(20):\n",
    "    xtrain, xtest, ytrain, ytest = train_test_split(x,y,test_size=0.3)\n",
    "\n",
    "    mlp = MLPClassifier(hidden_layer_sizes=(30,))\n",
    "    mlp.fit(xtrain, ytrain)\n",
    "    yhat = mlp.predict(xtest)\n",
    "    score = mlp.predict_proba(xtest)\n",
    "\n",
    "    acc.append(mlp.score(x,y))\n",
    "\n",
    "print(sum(acc)/len(acc))\n"
   ]
  },
  {
   "cell_type": "markdown",
   "metadata": {},
   "source": [
    "Part c) For the MLP classifier, after experimenting with many test/train values as well as hidden layer sizes, the best results achieved were with a hidden layer size of 30 and a test/train split of 0.3. The accuracy results similarly ranged between 63.5 and 64.5%."
   ]
  },
  {
   "cell_type": "markdown",
   "metadata": {},
   "source": [
    "Problem 2:"
   ]
  },
  {
   "cell_type": "markdown",
   "metadata": {},
   "source": [
    "Question 1. Due to the number of categorical variables as well as the categorical values being non-binary, it makes more sense and is more suitable to use label encoding to transform the categorical variables to numerical. This allows the dataset to remain readable and simpler as opposed to one hot encoding where many new variables would be added."
   ]
  },
  {
   "cell_type": "code",
   "execution_count": 150,
   "metadata": {},
   "outputs": [
    {
     "data": {
      "text/html": [
       "<div>\n",
       "<style scoped>\n",
       "    .dataframe tbody tr th:only-of-type {\n",
       "        vertical-align: middle;\n",
       "    }\n",
       "\n",
       "    .dataframe tbody tr th {\n",
       "        vertical-align: top;\n",
       "    }\n",
       "\n",
       "    .dataframe thead th {\n",
       "        text-align: right;\n",
       "    }\n",
       "</style>\n",
       "<table border=\"1\" class=\"dataframe\">\n",
       "  <thead>\n",
       "    <tr style=\"text-align: right;\">\n",
       "      <th></th>\n",
       "      <th>Age</th>\n",
       "      <th>Sex</th>\n",
       "      <th>ChestPainType</th>\n",
       "      <th>RestingBP</th>\n",
       "      <th>Cholesterol</th>\n",
       "      <th>FastingBS</th>\n",
       "      <th>RestingECG</th>\n",
       "      <th>MaxHR</th>\n",
       "      <th>ExerciseAngina</th>\n",
       "      <th>Oldpeak</th>\n",
       "      <th>ST_Slope</th>\n",
       "      <th>HeartDisease</th>\n",
       "    </tr>\n",
       "  </thead>\n",
       "  <tbody>\n",
       "    <tr>\n",
       "      <th>0</th>\n",
       "      <td>40</td>\n",
       "      <td>1</td>\n",
       "      <td>1</td>\n",
       "      <td>140</td>\n",
       "      <td>289</td>\n",
       "      <td>0</td>\n",
       "      <td>1</td>\n",
       "      <td>172</td>\n",
       "      <td>1</td>\n",
       "      <td>0.0</td>\n",
       "      <td>2</td>\n",
       "      <td>0</td>\n",
       "    </tr>\n",
       "    <tr>\n",
       "      <th>1</th>\n",
       "      <td>49</td>\n",
       "      <td>0</td>\n",
       "      <td>2</td>\n",
       "      <td>160</td>\n",
       "      <td>180</td>\n",
       "      <td>0</td>\n",
       "      <td>1</td>\n",
       "      <td>156</td>\n",
       "      <td>1</td>\n",
       "      <td>1.0</td>\n",
       "      <td>1</td>\n",
       "      <td>1</td>\n",
       "    </tr>\n",
       "    <tr>\n",
       "      <th>2</th>\n",
       "      <td>37</td>\n",
       "      <td>1</td>\n",
       "      <td>1</td>\n",
       "      <td>130</td>\n",
       "      <td>283</td>\n",
       "      <td>0</td>\n",
       "      <td>2</td>\n",
       "      <td>98</td>\n",
       "      <td>2</td>\n",
       "      <td>0.0</td>\n",
       "      <td>2</td>\n",
       "      <td>0</td>\n",
       "    </tr>\n",
       "    <tr>\n",
       "      <th>3</th>\n",
       "      <td>48</td>\n",
       "      <td>0</td>\n",
       "      <td>0</td>\n",
       "      <td>138</td>\n",
       "      <td>214</td>\n",
       "      <td>0</td>\n",
       "      <td>1</td>\n",
       "      <td>108</td>\n",
       "      <td>1</td>\n",
       "      <td>1.5</td>\n",
       "      <td>1</td>\n",
       "      <td>1</td>\n",
       "    </tr>\n",
       "    <tr>\n",
       "      <th>4</th>\n",
       "      <td>54</td>\n",
       "      <td>1</td>\n",
       "      <td>2</td>\n",
       "      <td>150</td>\n",
       "      <td>195</td>\n",
       "      <td>0</td>\n",
       "      <td>1</td>\n",
       "      <td>122</td>\n",
       "      <td>1</td>\n",
       "      <td>0.0</td>\n",
       "      <td>2</td>\n",
       "      <td>0</td>\n",
       "    </tr>\n",
       "  </tbody>\n",
       "</table>\n",
       "</div>"
      ],
      "text/plain": [
       "   Age  Sex  ChestPainType  RestingBP  Cholesterol  FastingBS  RestingECG  \\\n",
       "0   40    1              1        140          289          0           1   \n",
       "1   49    0              2        160          180          0           1   \n",
       "2   37    1              1        130          283          0           2   \n",
       "3   48    0              0        138          214          0           1   \n",
       "4   54    1              2        150          195          0           1   \n",
       "\n",
       "   MaxHR  ExerciseAngina  Oldpeak  ST_Slope  HeartDisease  \n",
       "0    172               1      0.0         2             0  \n",
       "1    156               1      1.0         1             1  \n",
       "2     98               2      0.0         2             0  \n",
       "3    108               1      1.5         1             1  \n",
       "4    122               1      0.0         2             0  "
      ]
     },
     "execution_count": 150,
     "metadata": {},
     "output_type": "execute_result"
    }
   ],
   "source": [
    "heartData = pd.read_csv(\"heart.csv\")\n",
    "\n",
    "from sklearn import preprocessing\n",
    "le = preprocessing.LabelEncoder()\n",
    "heartData['Sex'] = le.fit_transform(heartData['Sex'])\n",
    "heartData['ChestPainType'] = le.fit_transform(heartData['ChestPainType'])\n",
    "heartData['RestingECG'] = le.fit_transform(heartData['RestingECG'])\n",
    "heartData['ExerciseAngina'] = le.fit_transform(heartData['RestingECG'])\n",
    "heartData['ST_Slope'] = le.fit_transform(heartData['ST_Slope'])\n",
    "\n",
    "heartData.head()\n"
   ]
  },
  {
   "cell_type": "markdown",
   "metadata": {},
   "source": [
    "Question 2."
   ]
  },
  {
   "cell_type": "code",
   "execution_count": 199,
   "metadata": {},
   "outputs": [
    {
     "data": {
      "text/html": [
       "<div>\n",
       "<style scoped>\n",
       "    .dataframe tbody tr th:only-of-type {\n",
       "        vertical-align: middle;\n",
       "    }\n",
       "\n",
       "    .dataframe tbody tr th {\n",
       "        vertical-align: top;\n",
       "    }\n",
       "\n",
       "    .dataframe thead th {\n",
       "        text-align: right;\n",
       "    }\n",
       "</style>\n",
       "<table border=\"1\" class=\"dataframe\">\n",
       "  <thead>\n",
       "    <tr style=\"text-align: right;\">\n",
       "      <th></th>\n",
       "      <th>AUC Score</th>\n",
       "      <th>Accuracy Score</th>\n",
       "    </tr>\n",
       "  </thead>\n",
       "  <tbody>\n",
       "    <tr>\n",
       "      <th>0</th>\n",
       "      <td>0.904092</td>\n",
       "      <td>0.839130</td>\n",
       "    </tr>\n",
       "    <tr>\n",
       "      <th>1</th>\n",
       "      <td>0.923159</td>\n",
       "      <td>0.860870</td>\n",
       "    </tr>\n",
       "    <tr>\n",
       "      <th>2</th>\n",
       "      <td>0.910552</td>\n",
       "      <td>0.830435</td>\n",
       "    </tr>\n",
       "    <tr>\n",
       "      <th>3</th>\n",
       "      <td>0.899853</td>\n",
       "      <td>0.843478</td>\n",
       "    </tr>\n",
       "    <tr>\n",
       "      <th>4</th>\n",
       "      <td>0.917149</td>\n",
       "      <td>0.843478</td>\n",
       "    </tr>\n",
       "    <tr>\n",
       "      <th>5</th>\n",
       "      <td>0.909001</td>\n",
       "      <td>0.834783</td>\n",
       "    </tr>\n",
       "    <tr>\n",
       "      <th>6</th>\n",
       "      <td>0.877482</td>\n",
       "      <td>0.804348</td>\n",
       "    </tr>\n",
       "    <tr>\n",
       "      <th>7</th>\n",
       "      <td>0.898326</td>\n",
       "      <td>0.817391</td>\n",
       "    </tr>\n",
       "    <tr>\n",
       "      <th>8</th>\n",
       "      <td>0.904172</td>\n",
       "      <td>0.821739</td>\n",
       "    </tr>\n",
       "    <tr>\n",
       "      <th>9</th>\n",
       "      <td>0.910482</td>\n",
       "      <td>0.830435</td>\n",
       "    </tr>\n",
       "  </tbody>\n",
       "</table>\n",
       "</div>"
      ],
      "text/plain": [
       "   AUC Score  Accuracy Score\n",
       "0   0.904092        0.839130\n",
       "1   0.923159        0.860870\n",
       "2   0.910552        0.830435\n",
       "3   0.899853        0.843478\n",
       "4   0.917149        0.843478\n",
       "5   0.909001        0.834783\n",
       "6   0.877482        0.804348\n",
       "7   0.898326        0.817391\n",
       "8   0.904172        0.821739\n",
       "9   0.910482        0.830435"
      ]
     },
     "execution_count": 199,
     "metadata": {},
     "output_type": "execute_result"
    }
   ],
   "source": [
    "from sklearn.naive_bayes import GaussianNB\n",
    "import sklearn.metrics as metrics\n",
    "\n",
    "heartX = heartData.iloc[:,:11]\n",
    "heartY = heartData.iloc[:,11].to_numpy()\n",
    "\n",
    "auc_table = []\n",
    "acc_table = []\n",
    "\n",
    "for i in range(10):\n",
    "    xtrain, xtest, ytrain, ytest = train_test_split(heartX, heartY,test_size=0.25)\n",
    "\n",
    "    gnb = GaussianNB().fit(xtrain,ytrain)\n",
    "\n",
    "    yhat = gnb.predict(xtest)\n",
    "    score = gnb.predict_proba(xtest)\n",
    "\n",
    "    score = score[:,1]\n",
    "\n",
    "    auc_table.append(metrics.roc_auc_score(ytest,score))\n",
    "    acc_table.append(metrics.accuracy_score(ytest,yhat))\n",
    "\n",
    "table = pd.DataFrame(list(zip(auc_table, acc_table)), columns=['AUC Score','Accuracy Score'])\n",
    "table.head(10)"
   ]
  },
  {
   "cell_type": "markdown",
   "metadata": {},
   "source": [
    "Part 3. To predict a diagnosis with incomplete data, we can impute the missing values. This can be done using the SimpleImputer in sklearn."
   ]
  },
  {
   "cell_type": "code",
   "execution_count": 203,
   "metadata": {},
   "outputs": [
    {
     "name": "stdout",
     "output_type": "stream",
     "text": [
      "[[ 53.51089325   1.           0.         107.           0.\n",
      "    1.           1.         130.           0.98910675   0.4\n",
      "    2.        ]\n",
      " [ 65.           0.78976035   0.          99.           0.\n",
      "    0.23311547   1.         150.           0.98910675   0.4\n",
      "    2.        ]]\n"
     ]
    },
    {
     "name": "stderr",
     "output_type": "stream",
     "text": [
      "/Library/Frameworks/Python.framework/Versions/3.9/lib/python3.9/site-packages/sklearn/base.py:450: UserWarning: X does not have valid feature names, but SimpleImputer was fitted with feature names\n",
      "  warnings.warn(\n"
     ]
    }
   ],
   "source": [
    "from sklearn.impute import SimpleImputer\n",
    "import numpy as np\n",
    "\n",
    "\n",
    "imp = SimpleImputer(missing_values=np.nan, strategy='mean')\n",
    "imp.fit(heartX)\n",
    "SimpleImputer()\n",
    "\n",
    "testData = [[np.nan,1,0,107,0,1,1,130,np.nan,0.4,2],[65,np.nan,0,99,0,np.nan,1,150,np.nan,0.4,2]]\n",
    "\n",
    "imputedTestData = imp.transform(testData)\n",
    "print(imputedTestData)"
   ]
  },
  {
   "cell_type": "markdown",
   "metadata": {},
   "source": [
    "This entry now is filled with data and can be predicted using the model trained above."
   ]
  },
  {
   "cell_type": "code",
   "execution_count": 216,
   "metadata": {},
   "outputs": [
    {
     "name": "stdout",
     "output_type": "stream",
     "text": [
      "[1 1]\n"
     ]
    },
    {
     "name": "stderr",
     "output_type": "stream",
     "text": [
      "/Library/Frameworks/Python.framework/Versions/3.9/lib/python3.9/site-packages/sklearn/base.py:450: UserWarning: X does not have valid feature names, but GaussianNB was fitted with feature names\n",
      "  warnings.warn(\n"
     ]
    }
   ],
   "source": [
    "testPredict = gnb.predict(imputedTestData)\n",
    "\n",
    "print(testPredict)"
   ]
  },
  {
   "cell_type": "markdown",
   "metadata": {},
   "source": [
    "These two demo test entries are predicted to both have heart disease."
   ]
  },
  {
   "cell_type": "markdown",
   "metadata": {},
   "source": [
    "Part 4."
   ]
  },
  {
   "cell_type": "code",
   "execution_count": 235,
   "metadata": {},
   "outputs": [
    {
     "data": {
      "text/html": [
       "<div>\n",
       "<style scoped>\n",
       "    .dataframe tbody tr th:only-of-type {\n",
       "        vertical-align: middle;\n",
       "    }\n",
       "\n",
       "    .dataframe tbody tr th {\n",
       "        vertical-align: top;\n",
       "    }\n",
       "\n",
       "    .dataframe thead th {\n",
       "        text-align: right;\n",
       "    }\n",
       "</style>\n",
       "<table border=\"1\" class=\"dataframe\">\n",
       "  <thead>\n",
       "    <tr style=\"text-align: right;\">\n",
       "      <th></th>\n",
       "      <th>K</th>\n",
       "      <th>KNN Accuracy</th>\n",
       "      <th>WNN Accuracy</th>\n",
       "      <th>KNN AUC</th>\n",
       "      <th>WNN AUC</th>\n",
       "    </tr>\n",
       "  </thead>\n",
       "  <tbody>\n",
       "    <tr>\n",
       "      <th>0</th>\n",
       "      <td>5</td>\n",
       "      <td>0.647826</td>\n",
       "      <td>0.647826</td>\n",
       "      <td>0.703654</td>\n",
       "      <td>0.703654</td>\n",
       "    </tr>\n",
       "    <tr>\n",
       "      <th>1</th>\n",
       "      <td>6</td>\n",
       "      <td>0.686957</td>\n",
       "      <td>0.686957</td>\n",
       "      <td>0.753220</td>\n",
       "      <td>0.753220</td>\n",
       "    </tr>\n",
       "    <tr>\n",
       "      <th>2</th>\n",
       "      <td>7</td>\n",
       "      <td>0.721739</td>\n",
       "      <td>0.721739</td>\n",
       "      <td>0.775908</td>\n",
       "      <td>0.775908</td>\n",
       "    </tr>\n",
       "    <tr>\n",
       "      <th>3</th>\n",
       "      <td>8</td>\n",
       "      <td>0.730435</td>\n",
       "      <td>0.730435</td>\n",
       "      <td>0.825054</td>\n",
       "      <td>0.825054</td>\n",
       "    </tr>\n",
       "    <tr>\n",
       "      <th>4</th>\n",
       "      <td>9</td>\n",
       "      <td>0.647826</td>\n",
       "      <td>0.647826</td>\n",
       "      <td>0.744315</td>\n",
       "      <td>0.744315</td>\n",
       "    </tr>\n",
       "    <tr>\n",
       "      <th>5</th>\n",
       "      <td>10</td>\n",
       "      <td>0.743478</td>\n",
       "      <td>0.743478</td>\n",
       "      <td>0.778048</td>\n",
       "      <td>0.778048</td>\n",
       "    </tr>\n",
       "    <tr>\n",
       "      <th>6</th>\n",
       "      <td>11</td>\n",
       "      <td>0.682609</td>\n",
       "      <td>0.682609</td>\n",
       "      <td>0.745219</td>\n",
       "      <td>0.745219</td>\n",
       "    </tr>\n",
       "    <tr>\n",
       "      <th>7</th>\n",
       "      <td>12</td>\n",
       "      <td>0.656522</td>\n",
       "      <td>0.656522</td>\n",
       "      <td>0.727040</td>\n",
       "      <td>0.727040</td>\n",
       "    </tr>\n",
       "    <tr>\n",
       "      <th>8</th>\n",
       "      <td>13</td>\n",
       "      <td>0.708696</td>\n",
       "      <td>0.708696</td>\n",
       "      <td>0.772424</td>\n",
       "      <td>0.772424</td>\n",
       "    </tr>\n",
       "    <tr>\n",
       "      <th>9</th>\n",
       "      <td>14</td>\n",
       "      <td>0.678261</td>\n",
       "      <td>0.678261</td>\n",
       "      <td>0.756439</td>\n",
       "      <td>0.756439</td>\n",
       "    </tr>\n",
       "    <tr>\n",
       "      <th>10</th>\n",
       "      <td>15</td>\n",
       "      <td>0.717391</td>\n",
       "      <td>0.717391</td>\n",
       "      <td>0.794639</td>\n",
       "      <td>0.794639</td>\n",
       "    </tr>\n",
       "    <tr>\n",
       "      <th>11</th>\n",
       "      <td>16</td>\n",
       "      <td>0.647826</td>\n",
       "      <td>0.647826</td>\n",
       "      <td>0.714026</td>\n",
       "      <td>0.714026</td>\n",
       "    </tr>\n",
       "    <tr>\n",
       "      <th>12</th>\n",
       "      <td>17</td>\n",
       "      <td>0.686957</td>\n",
       "      <td>0.686957</td>\n",
       "      <td>0.770545</td>\n",
       "      <td>0.770545</td>\n",
       "    </tr>\n",
       "    <tr>\n",
       "      <th>13</th>\n",
       "      <td>18</td>\n",
       "      <td>0.717391</td>\n",
       "      <td>0.717391</td>\n",
       "      <td>0.772586</td>\n",
       "      <td>0.772586</td>\n",
       "    </tr>\n",
       "    <tr>\n",
       "      <th>14</th>\n",
       "      <td>19</td>\n",
       "      <td>0.643478</td>\n",
       "      <td>0.643478</td>\n",
       "      <td>0.729362</td>\n",
       "      <td>0.729362</td>\n",
       "    </tr>\n",
       "  </tbody>\n",
       "</table>\n",
       "</div>"
      ],
      "text/plain": [
       "     K  KNN Accuracy  WNN Accuracy   KNN AUC   WNN AUC\n",
       "0    5      0.647826      0.647826  0.703654  0.703654\n",
       "1    6      0.686957      0.686957  0.753220  0.753220\n",
       "2    7      0.721739      0.721739  0.775908  0.775908\n",
       "3    8      0.730435      0.730435  0.825054  0.825054\n",
       "4    9      0.647826      0.647826  0.744315  0.744315\n",
       "5   10      0.743478      0.743478  0.778048  0.778048\n",
       "6   11      0.682609      0.682609  0.745219  0.745219\n",
       "7   12      0.656522      0.656522  0.727040  0.727040\n",
       "8   13      0.708696      0.708696  0.772424  0.772424\n",
       "9   14      0.678261      0.678261  0.756439  0.756439\n",
       "10  15      0.717391      0.717391  0.794639  0.794639\n",
       "11  16      0.647826      0.647826  0.714026  0.714026\n",
       "12  17      0.686957      0.686957  0.770545  0.770545\n",
       "13  18      0.717391      0.717391  0.772586  0.772586\n",
       "14  19      0.643478      0.643478  0.729362  0.729362"
      ]
     },
     "execution_count": 235,
     "metadata": {},
     "output_type": "execute_result"
    }
   ],
   "source": [
    "from sklearn.neighbors import KNeighborsClassifier\n",
    "\n",
    "k = [5,6,7,8,9,10,11,12,13,14,15,16,17,18,19]\n",
    "K = 5\n",
    "\n",
    "acc1 = []\n",
    "acc2 = []\n",
    "auc1 = []\n",
    "auc2 = []\n",
    "for i in range(15):\n",
    "    xtrain, xtest, ytrain, ytest = train_test_split(heartX, heartY,test_size=0.25)\n",
    "\n",
    "    knn = KNeighborsClassifier(n_neighbors = K, weights = \"uniform\")\n",
    "    wnn = KNeighborsClassifier(n_neighbors = K, weights = \"distance\")\n",
    "\n",
    "    knn.fit(xtrain,ytrain)\n",
    "    wnn.fit(xtrain,ytrain)\n",
    "\n",
    "    yhat1 = knn.predict(xtest)\n",
    "    yhat2 = knn.predict(xtest)\n",
    "\n",
    "    score1 = knn.predict_proba(xtest)\n",
    "    score2 = knn.predict_proba(xtest)\n",
    "\n",
    "    score1 = score1[:,1]\n",
    "    score2 = score2[:,1]\n",
    "\n",
    "    acc1.append(metrics.accuracy_score(ytest,yhat1))\n",
    "    acc2.append(metrics.accuracy_score(ytest,yhat2))\n",
    "\n",
    "    auc1.append(metrics.roc_auc_score(ytest,score1))\n",
    "    auc2.append(metrics.roc_auc_score(ytest,score2))\n",
    "    K += i\n",
    "\n",
    "knntable = pd.DataFrame(list(zip(k,acc1, acc2, auc1, auc2)), columns=['K','KNN Accuracy', 'WNN Accuracy', 'KNN AUC', 'WNN AUC'])\n",
    "knntable.head(15)"
   ]
  },
  {
   "cell_type": "markdown",
   "metadata": {},
   "source": [
    "Using the KNN model we find some slightly more accurate results into the high 70%s and the low 80%s in terms of area under the curve as well as above 70% accyuracy scores for different values of K, an improvement over the other models trained and tested above."
   ]
  }
 ],
 "metadata": {
  "kernelspec": {
   "display_name": "Python 3.9.0 64-bit",
   "language": "python",
   "name": "python3"
  },
  "language_info": {
   "codemirror_mode": {
    "name": "ipython",
    "version": 3
   },
   "file_extension": ".py",
   "mimetype": "text/x-python",
   "name": "python",
   "nbconvert_exporter": "python",
   "pygments_lexer": "ipython3",
   "version": "3.9.0"
  },
  "orig_nbformat": 4,
  "vscode": {
   "interpreter": {
    "hash": "aee8b7b246df8f9039afb4144a1f6fd8d2ca17a180786b69acc140d282b71a49"
   }
  }
 },
 "nbformat": 4,
 "nbformat_minor": 2
}
